{
 "cells": [
  {
   "cell_type": "markdown",
   "id": "ed0001f3-6291-4a1d-bab2-da39e907cacb",
   "metadata": {
    "jupyter": {
     "outputs_hidden": false
    },
    "name": "intro"
   },
   "source": [
    "RAG Made Easy w/ Snowflake Cortex\n",
    "========\n",
    "\n",
    "Creating an end-to-end Retrieval Augmented Generation process (or RAG) directly in Snowflake.\n",
    "1) Extract full text from PDF files using Snowpark.\n",
    "2) Chunk those documents using Langchain in Snowpark.\n",
    "3) Use Cortex to create embeddings of those chunks.\n",
    "4) Use Vector Similarity to show the most similar chunk when prompting an LLM."
   ]
  },
  {
   "cell_type": "markdown",
   "id": "cba580cb-f521-4319-89a4-fe362ad8edd5",
   "metadata": {},
   "source": [
    "## 1. Imports and Session Setup"
   ]
  },
  {
   "cell_type": "code",
   "execution_count": 1,
   "id": "3775908f-ca36-4846-8f38-5adca39217f2",
   "metadata": {
    "codeCollapsed": true,
    "language": "python",
    "name": "libs"
   },
   "outputs": [],
   "source": [
    "import pandas as pd\n",
    "import json\n",
    "from PyPDF2 import PdfFileReader\n",
    "from snowflake.snowpark.files import SnowflakeFile\n",
    "from io import BytesIO\n",
    "from snowflake.snowpark.types import StringType, StructField, StructType\n",
    "from langchain.text_splitter import RecursiveCharacterTextSplitter"
   ]
  },
  {
   "cell_type": "code",
   "execution_count": 2,
   "id": "7dfc94be-b5cc-42c7-9058-0ede47df1715",
   "metadata": {},
   "outputs": [],
   "source": [
    "from snowflake.snowpark.session import Session\n",
    "snowflake_connection_cfg = json.loads(open(\"/Users/mitaylor/Documents/creds/creds_LLM.json\").read()) \n",
    "session = Session.builder.configs(snowflake_connection_cfg).create()"
   ]
  },
  {
   "cell_type": "code",
   "execution_count": 3,
   "id": "3fc94efa-f7c3-4a80-ad94-57ef8295e4eb",
   "metadata": {},
   "outputs": [
    {
     "data": {
      "text/plain": [
       "[Row(status='Warehouse ASYNC_WH successfully created.')]"
      ]
     },
     "execution_count": 3,
     "metadata": {},
     "output_type": "execute_result"
    }
   ],
   "source": [
    "session.sql(\"USE DATABASE RAG_DEMO\").collect()\n",
    "#session.sql(\"CREATE OR REPLACE STAGE RAG_FUNC_STAGE\").collect()\n",
    "#session.sql(\"CREATE OR REPLACE STAGE RAG_PDF_STAGE\").collect()\n",
    "session.sql(\"CREATE OR REPLACE WAREHOUSE ASYNC_WH WITH WAREHOUSE_SIZE='MEDIUM' WAREHOUSE_TYPE = 'SNOWPARK-OPTIMIZED'\").collect()"
   ]
  },
  {
   "cell_type": "markdown",
   "id": "8a8a40dd-2153-4290-937f-d9ac5d604332",
   "metadata": {},
   "source": [
    "## 2. Check our pdfs\n",
    "\n",
    "### (Note this was uploaded manually via the Snowsight GUI, but other options are available, e.g. loaded from an S3 bucket)"
   ]
  },
  {
   "cell_type": "code",
   "execution_count": 4,
   "id": "9d86cf9c-f0d1-4834-b143-cb39517071c3",
   "metadata": {
    "collapsed": false,
    "jupyter": {
     "outputs_hidden": false
    },
    "language": "sql",
    "name": "show_data"
   },
   "outputs": [
    {
     "data": {
      "text/plain": [
       "[Row(name='rag_pdf_stage/richards-smith-2015-caffeine-consumption-and-self-assessed-stress-anxiety-and-depression-in-secondary-school-children.pdf', size=261344, md5='22742df860d590a125ccd44bdfe0f89f', last_modified='Wed, 7 Feb 2024 12:31:27 GMT')]"
      ]
     },
     "execution_count": 4,
     "metadata": {},
     "output_type": "execute_result"
    }
   ],
   "source": [
    "session.sql('''ls @RAG_PDF_STAGE''').collect()"
   ]
  },
  {
   "cell_type": "markdown",
   "id": "0b165dd9-bff7-4cb8-b660-5f24be6c1645",
   "metadata": {},
   "source": [
    "## 3. Read the PDF via a UDF and deposit text into the RAW_TEXT table"
   ]
  },
  {
   "cell_type": "code",
   "execution_count": 5,
   "id": "f1096fb7-6a33-48fb-8984-772288e650e9",
   "metadata": {
    "collapsed": false,
    "jupyter": {
     "outputs_hidden": false
    },
    "language": "python",
    "name": "pdf_read_func"
   },
   "outputs": [],
   "source": [
    "def readpdf(file_path):\n",
    "    whole_text = \"\"\n",
    "    with SnowflakeFile.open(file_path, 'rb') as file:\n",
    "        f = BytesIO(file.readall())\n",
    "        pdf_reader = PdfFileReader(f)\n",
    "        whole_text = \"\"\n",
    "        for page in pdf_reader.pages:\n",
    "            whole_text += page.extract_text()\n",
    "    return whole_text"
   ]
  },
  {
   "cell_type": "code",
   "execution_count": 6,
   "id": "c1a5e251-47fa-450a-8667-2c8899796b02",
   "metadata": {
    "language": "python",
    "name": "UDF_reg"
   },
   "outputs": [
    {
     "data": {
      "text/plain": [
       "<snowflake.snowpark.udf.UserDefinedFunction at 0x10da8fa90>"
      ]
     },
     "execution_count": 6,
     "metadata": {},
     "output_type": "execute_result"
    }
   ],
   "source": [
    "session.udf.register(func = readpdf,\n",
    "                     return_type = StringType(),\n",
    "                     input_types = [StringType()],\n",
    "                     is_permanent = True,\n",
    "                     name = 'SNOWPARK_PDF',\n",
    "                     replace = True,\n",
    "                     packages=['snowflake-snowpark-python','pypdf2'],\n",
    "                     stage_location = '@RAG_FUNC_STAGE')"
   ]
  },
  {
   "cell_type": "code",
   "execution_count": 10,
   "id": "6ea74c09-b8d0-440d-84d1-fd1cfaef9ce3",
   "metadata": {
    "collapsed": false,
    "jupyter": {
     "outputs_hidden": false
    },
    "language": "sql",
    "name": "raw_table"
   },
   "outputs": [
    {
     "data": {
      "text/plain": [
       "[Row(status='Table RAW_TEXT successfully created.')]"
      ]
     },
     "execution_count": 10,
     "metadata": {},
     "output_type": "execute_result"
    }
   ],
   "source": [
    "session.sql('''CREATE OR REPLACE TABLE RAW_TEXT AS\n",
    "SELECT\n",
    "    relative_path\n",
    "    , file_url\n",
    "    , snowpark_pdf(build_scoped_file_url(@RAG_PDF_STAGE, relative_path)) as raw_text\n",
    "from directory(@RAG_PDF_STAGE)''').collect()"
   ]
  },
  {
   "cell_type": "code",
   "execution_count": null,
   "id": "e633b10e-8255-4e67-ad98-0d2704af274a",
   "metadata": {
    "collapsed": false,
    "jupyter": {
     "outputs_hidden": false
    },
    "language": "sql",
    "name": "too_big_sadness"
   },
   "outputs": [],
   "source": [
    "#This will fail due to tokens exceeding limit, which means we need to chunk!\n",
    "session.sql('''SELECT\n",
    "SNOWFLAKE.ML.COMPLETE('llama2-7b-chat',CONCAT('summarise the following text',raw_text)) \n",
    "FROM\n",
    "RAW_TEXT\n",
    "LIMIT 1''').collect()"
   ]
  },
  {
   "cell_type": "markdown",
   "id": "4b06bb86-7434-4b11-aee4-41af529095c7",
   "metadata": {
    "jupyter": {
     "outputs_hidden": false
    },
    "name": "word_on_chunking"
   },
   "source": [
    "## 4. Do Some Chunking to address the size/token limitation with a UDTF\n"
   ]
  },
  {
   "cell_type": "code",
   "execution_count": 13,
   "id": "5de470cc-255e-42fa-87b8-fcac62040b41",
   "metadata": {
    "collapsed": false,
    "jupyter": {
     "outputs_hidden": false
    },
    "language": "python",
    "name": "chunker_udtf"
   },
   "outputs": [],
   "source": [
    "#A class for chunking text and returning a table via UDTF\n",
    "class text_chunker:\n",
    "    def process(self,text):        \n",
    "        text_raw=[]\n",
    "        text_raw.append(text) \n",
    "        \n",
    "        text_splitter = RecursiveCharacterTextSplitter(\n",
    "            separators = [\"\\n\"], # Define an appropriate separator. New line is good typically!\n",
    "            chunk_size = 1000, #Adjust this as you see fit\n",
    "            chunk_overlap  = 50, #This let's text have some form of overlap. Useful for keeping chunks contextual\n",
    "            length_function = len,\n",
    "            add_start_index = True #Optional but useful if you'd like to feed the chunk before/after\n",
    "        )\n",
    "    \n",
    "        chunks = text_splitter.create_documents(text_raw)\n",
    "        df = pd.DataFrame(chunks, columns=['chunks','meta'])\n",
    "        yield from df.itertuples(index=False, name=None)\n"
   ]
  },
  {
   "cell_type": "code",
   "execution_count": 14,
   "id": "c9c88000-ba6b-4fe9-9215-8a2e4720948d",
   "metadata": {
    "collapsed": false,
    "jupyter": {
     "outputs_hidden": false
    },
    "language": "python",
    "name": "reg_chunk_udtf"
   },
   "outputs": [
    {
     "data": {
      "text/plain": [
       "<snowflake.snowpark.udtf.UserDefinedTableFunction at 0x17a35a1d0>"
      ]
     },
     "execution_count": 14,
     "metadata": {},
     "output_type": "execute_result"
    }
   ],
   "source": [
    "schema = StructType([StructField(\"chunk\", StringType()),\n",
    "                     StructField(\"meta\", StringType()),])\n",
    "\n",
    "session.udtf.register(handler = text_chunker,\n",
    "                      output_schema= schema, \n",
    "                      input_types = [StringType()] , \n",
    "                      is_permanent = True , \n",
    "                      name = 'CHUNK_TEXT' , \n",
    "                      replace = True , \n",
    "                      packages=['pandas','langchain'], stage_location = '@RAG_FUNC_STAGE' )"
   ]
  },
  {
   "cell_type": "code",
   "execution_count": 15,
   "id": "6ef44130-b787-495d-9720-af0e584decc3",
   "metadata": {
    "codeCollapsed": false,
    "language": "sql",
    "name": "chunked_table"
   },
   "outputs": [
    {
     "data": {
      "text/plain": [
       "[Row(status='Table CHUNK_TEXT successfully created.')]"
      ]
     },
     "execution_count": 15,
     "metadata": {},
     "output_type": "execute_result"
    }
   ],
   "source": [
    "# Create the chunked version of the table\n",
    "session.sql('''\n",
    "CREATE OR REPLACE TABLE CHUNK_TEXT AS\n",
    "SELECT relative_path,func.*\n",
    "FROM raw_text AS raw, TABLE(chunk_text(raw_text)) as func\n",
    "''').collect()"
   ]
  },
  {
   "cell_type": "markdown",
   "id": "adcb2288-143b-4012-85d0-789ce4f1563c",
   "metadata": {},
   "source": [
    "## 4. Convert those chunks to vectors to enable vector searching on the VECTOR_STORE Table"
   ]
  },
  {
   "cell_type": "code",
   "execution_count": 16,
   "id": "5ec68f14-db2a-4df2-b9ce-b82e580bf154",
   "metadata": {
    "language": "sql",
    "name": "vector_store"
   },
   "outputs": [
    {
     "data": {
      "text/plain": [
       "[Row(status='Table VECTOR_STORE successfully created.')]"
      ]
     },
     "execution_count": 16,
     "metadata": {},
     "output_type": "execute_result"
    }
   ],
   "source": [
    "session.sql('''\n",
    "CREATE OR REPLACE TABLE VECTOR_STORE AS\n",
    "SELECT RELATIVE_PATH as PDF_NAME, CHUNK AS CHUNK, snowflake.ml.embed_text('e5-base-v2', chunk) as chunk_embedding\n",
    "FROM CHUNK_TEXT\n",
    "''').collect()"
   ]
  },
  {
   "cell_type": "code",
   "execution_count": 18,
   "id": "6e01fac7-205d-4edc-ba52-aad04327abd7",
   "metadata": {
    "collapsed": false,
    "jupyter": {
     "outputs_hidden": false
    },
    "language": "sql",
    "name": "vector_distance"
   },
   "outputs": [
    {
     "data": {
      "text/plain": [
       "[Row(EPISODE_NAME='richards-smith-2015-caffeine-consumption-and-self-assessed-stress-anxiety-and-depression-in-secondary-school-children.pdf', CHUNK=\"('page_content', '\\\\nweekly cycle of caffeine use in adolescents was reported by Pollak and Bright (2003), in which consumption peaked during the weekend (Saturday), and was lowest in the middle of the week (Wednesday). Coupled with the observations that adoles-cents sometimes use caffeinated products to delay sleep onset (e.g. Calamaro et al., 2009) and to counteract the effects of sleep-iness during the day (Malinauskas et al., 2007), it is possible that the timing of administration of the questionnaire may have been of importance.A further limitation of the current study is that it utilised a cross-sectional design. This means that all effects observed here are correlational, and that causation cannot be inferred. Therefore the possibility of reverse-causation, or indeed bi-directionality, cannot be disregarded. For instance, high caf-feine consumption may be a cause of high stress, anxiety, and depression, but suffering from such conditions may also lead towards the high consumption of caffeinated products as a cop-ing strategy. Furthermore, it is possible that the effects observed here are attributable to personality characteristics associated with caffeine users, rather than to their use of caffeine. Future research should therefore aim to conduct intervention studies in order to investigate the nature of these relationships further.')\")]"
      ]
     },
     "execution_count": 18,
     "metadata": {},
     "output_type": "execute_result"
    }
   ],
   "source": [
    "session.sql('''\n",
    "SELECT PDF_NAME, CHUNK from RAG_DEMO.PUBLIC.VECTOR_STORE \n",
    "ORDER BY VECTOR_L2_DISTANCE(snowflake.ml.embed_text('e5-base-v2', 'Is Caffeine Good for me?'), CHUNK_EMBEDDING\n",
    "            ) limit 1''').collect()"
   ]
  },
  {
   "cell_type": "markdown",
   "id": "eb9e399b-d011-4623-bb27-1dfc9f9ca671",
   "metadata": {},
   "source": [
    "## 5. Combine the Chunked Vector Store Data with a \"Standard\" LLAMA2-7b \"query\" via the complete function and embedding context via RAG"
   ]
  },
  {
   "cell_type": "code",
   "execution_count": 26,
   "id": "277a77a8-1850-4269-87eb-7f375af0f242",
   "metadata": {},
   "outputs": [],
   "source": [
    "question = \"'What association is there between caffeine and anxiety in school children?'\""
   ]
  },
  {
   "cell_type": "code",
   "execution_count": 28,
   "id": "abdd6751-1ff1-4932-9e9a-a42fbfd4afb7",
   "metadata": {
    "collapsed": false,
    "jupyter": {
     "outputs_hidden": false
    },
    "language": "sql",
    "name": "llm_rag"
   },
   "outputs": [],
   "source": [
    "answer_sql = session.sql(f'''SELECT snowflake.cortex.complete(\n",
    "    'mistral-7b', \n",
    "    CONCAT( \n",
    "        'Answer the question based on the context. Be concise.','Context: ',\n",
    "        (\n",
    "            SELECT chunk FROM RAG_DEMO.PUBLIC.VECTOR_STORE \n",
    "            ORDER BY vector_l2_distance(\n",
    "            snowflake.ml.embed_text('e5-base-v2', \n",
    "            {question}\n",
    "            ), chunk_embedding\n",
    "            ) LIMIT 1\n",
    "        ),\n",
    "        'Question: ', \n",
    "        {question},\n",
    "        'Answer: '\n",
    "    )\n",
    ") as response ''').collect()"
   ]
  },
  {
   "cell_type": "code",
   "execution_count": 29,
   "id": "cf0d748e-a920-456d-97e6-db29886590d4",
   "metadata": {},
   "outputs": [
    {
     "data": {
      "text/plain": [
       "[Row(RESPONSE=' According to the study, there is a positive association between caffeine intake and anxiety in school children. Specifically, the study found that higher levels of total weekly caffeine intake were associated with higher levels of anxiety, both after adjusting for additional covariates and when examining the effects in males and females separately.')]"
      ]
     },
     "execution_count": 29,
     "metadata": {},
     "output_type": "execute_result"
    }
   ],
   "source": [
    "answer_sql"
   ]
  }
 ],
 "metadata": {
  "kernelspec": {
   "display_name": "Python 3 (ipykernel)",
   "language": "python",
   "name": "python3"
  },
  "language_info": {
   "codemirror_mode": {
    "name": "ipython",
    "version": 3
   },
   "file_extension": ".py",
   "mimetype": "text/x-python",
   "name": "python",
   "nbconvert_exporter": "python",
   "pygments_lexer": "ipython3",
   "version": "3.9.13"
  }
 },
 "nbformat": 4,
 "nbformat_minor": 5
}
